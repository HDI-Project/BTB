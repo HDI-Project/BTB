{
 "cells": [
  {
   "cell_type": "markdown",
   "metadata": {},
   "source": [
    "# BTBSession\n",
    "\n",
    "## What is BTBSession\n",
    "\n",
    "BTBSession provides a simplified user interface to be able to search the best solution for your tuning problem by combining tuners and selectors with as little steps required as possible.\n",
    "\n",
    "## Creating a BTBSession\n",
    "\n",
    "We will guide you through the necessary steps to get started using BTBSession\n",
    "to select and tune the best model to solve a Machine Learning problem.\n",
    "\n",
    "In particular, in this example we will be using ``BTBSession`` to perform solve the [Boston](\n",
    "http://lib.stat.cmu.edu/datasets/boston) regression problem by selecting between the\n",
    "`ExtraTreesRegressor` and the `RandomForestRegressor` models from [scikit-learn](\n",
    "https://scikit-learn.org/) while also searching for their best Hyperparameter configuration.\n",
    "\n",
    "### Prepare a scoring function\n",
    "\n",
    "The first step in order to use the `BTBSession` class is to develop a scoring function.\n",
    "\n",
    "This is a Python function that, given a model name and a hyperparameter configuration,\n",
    "evaluates the performance of the model on your data and returns a score."
   ]
  },
  {
   "cell_type": "code",
   "execution_count": 1,
   "metadata": {},
   "outputs": [],
   "source": [
    "import warnings\n",
    "\n",
    "from sklearn.datasets import load_boston\n",
    "from sklearn.ensemble import ExtraTreesRegressor, RandomForestRegressor\n",
    "from sklearn.metrics import make_scorer, r2_score\n",
    "from sklearn.model_selection import cross_val_score\n",
    "\n",
    "warnings.filterwarnings('ignore')\n",
    "\n",
    "dataset = load_boston()\n",
    "models = {\n",
    "    'random_forest': RandomForestRegressor,\n",
    "    'extra_trees': ExtraTreesRegressor,\n",
    "}\n",
    "\n",
    "def scoring_function(model_name, hyperparameter_values):\n",
    "    model_class = models[model_name]\n",
    "    model_instance = model_class(**hyperparameter_values)\n",
    "    scores = cross_val_score(\n",
    "        estimator=model_instance,\n",
    "        X=dataset.data,\n",
    "        y=dataset.target,\n",
    "        scoring=make_scorer(r2_score)\n",
    "    )\n",
    "    return scores.mean()"
   ]
  },
  {
   "cell_type": "markdown",
   "metadata": {},
   "source": [
    "### Define the tunable hyperparameters\n",
    "\n",
    "The second step is to define the hyperparameters that we want to tune for each model as `Tunables`.\n"
   ]
  },
  {
   "cell_type": "code",
   "execution_count": 2,
   "metadata": {},
   "outputs": [],
   "source": [
    "from btb.tuning import Tunable\n",
    "from btb.tuning.hyperparams import CategoricalHyperParam, IntHyperParam\n",
    "\n",
    "tunables = {\n",
    "    'random_forest': Tunable({\n",
    "        'max_features': CategoricalHyperParam(choices=[None, 'auto', 'log2', 'sqrt']),\n",
    "        'min_samples_split': IntHyperParam(min=2, max=20, default=2),\n",
    "        'min_samples_leaf': IntHyperParam(min=1, max=20, default=2)\n",
    "    }),\n",
    "    'extra_trees': Tunable({\n",
    "        'max_features': CategoricalHyperParam(choices=[None, 'auto', 'log2', 'sqrt']),\n",
    "        'min_samples_split': IntHyperParam(min=2, max=20, default=2),\n",
    "        'min_samples_leaf': IntHyperParam(min=1, max=20, default=2)\n",
    "    })\n",
    "}"
   ]
  },
  {
   "cell_type": "markdown",
   "metadata": {},
   "source": [
    "### Create BTBSession instance\n",
    "\n",
    "Once you have defined a scoring function and the tunable hyperparameters specification of your\n",
    "models, you can create the instance of `btb.BTBSession`.\n",
    "\n",
    "BTBSession accepts the following arguments:\n",
    "\n",
    "- `tunables` (dict): Python dictionary that has as keys the name of the tunable and as value a dictionary with the tunable hyperparameters or an ``btb.tuning.tunable.Tunable`` instance.\n",
    "- `scorer` (callable object / function): A callable object or function with signature ``scorer(tunable_name, config)`` wich should return only a single value.\n",
    "- `tuner_class` (btb.tuning.tuner.BaseTuner): A tuner based on BTB ``BaseTuner`` class. This tuner will manage the new proposals. Defaults to ``btb.tuning.tuners.gaussian_process.GPTuner``\n",
    "- `selector_class` (btb.selection.selector.Selector): A selector based on BTB ``Selector`` class. This will determinate which one of the tunables is performing better, and which one to test next. Defaults to ``btb.selection.selectors.ucb1.UCB1``\n",
    "- `maximize` (bool): If ``True`` the scores are interpreted as bigger is better, if ``False`` then smaller is better, this should depend on the problem type (maximization or minimization). Defaults to ``True``.\n",
    "- `max_erors` (int): Amount of errors allowed for a tunable to not generate a score. Once this amount of errors is reached, the tunable will be removed from the list. Defaults to 1.\n",
    "- `verbose` (bool): If ``True`` a progress bar will be displayed for the ``run`` process.\n",
    "\n",
    "For now all you need to do is pass the tunable hyperparameters scpecification and the scoring function."
   ]
  },
  {
   "cell_type": "code",
   "execution_count": 3,
   "metadata": {},
   "outputs": [],
   "source": [
    "from btb import BTBSession\n",
    "\n",
    "session = BTBSession(\n",
    "    tunables=tunables,\n",
    "    scorer=scoring_function\n",
    ")"
   ]
  },
  {
   "cell_type": "markdown",
   "metadata": {},
   "source": [
    "## Using BTBSession\n",
    "\n",
    "### Run\n",
    "\n",
    "BTBSession works with it's main method called `run`. This method accepts as an argument\n",
    "the amount of tuning iterations to perform. By default this argument is `None` wich means\n",
    "that it will run until it's not stopped by the user or a `StopTuning` exception is raised.\n",
    "\n",
    "For now you can call the `run` method indicating how many tunable iterations you want the\n",
    "Session to perform:"
   ]
  },
  {
   "cell_type": "code",
   "execution_count": null,
   "metadata": {},
   "outputs": [],
   "source": [
    "best_proposal = session.run(10)"
   ]
  },
  {
   "cell_type": "markdown",
   "metadata": {},
   "source": [
    "### Exploring the result\n",
    "\n",
    "The result will be a dictionary indicating the name of the best model that could be found\n",
    "and the hyperparameter configuration that was used:"
   ]
  },
  {
   "cell_type": "code",
   "execution_count": null,
   "metadata": {},
   "outputs": [],
   "source": [
    "best_proposal"
   ]
  },
  {
   "cell_type": "markdown",
   "metadata": {},
   "source": [
    "The session object also contains this `best_proposal` as an attribute "
   ]
  },
  {
   "cell_type": "code",
   "execution_count": null,
   "metadata": {},
   "outputs": [],
   "source": [
    "session.best_proposal"
   ]
  },
  {
   "cell_type": "markdown",
   "metadata": {},
   "source": [
    "### Resume session\n",
    "\n",
    "The session object allows the user to resume the tuning process by calling again the `run` method:"
   ]
  },
  {
   "cell_type": "code",
   "execution_count": null,
   "metadata": {},
   "outputs": [],
   "source": [
    "best_proposal = session.run(50)\n",
    "best_proposal"
   ]
  },
  {
   "cell_type": "markdown",
   "metadata": {},
   "source": [
    "## Fitting the best solution\n",
    "\n",
    "One we have found the best possible solution, we are ready to learn a model from our data in order to make predictions.\n",
    "To do this, we will have to retrieve from the `best_proposal` dict both the name and the configuration of the best solution."
   ]
  },
  {
   "cell_type": "code",
   "execution_count": null,
   "metadata": {},
   "outputs": [],
   "source": [
    "best_model_name = best_proposal['name']\n",
    "hyperparameters = best_proposal['config']\n",
    "best_model_class = models[best_model_name]\n",
    "model_instance = best_model_class(**hyperparameters)"
   ]
  },
  {
   "cell_type": "code",
   "execution_count": null,
   "metadata": {},
   "outputs": [],
   "source": [
    "model_instance.fit(dataset.data, dataset.target)"
   ]
  }
 ],
 "metadata": {
  "kernelspec": {
   "display_name": "Python 3",
   "language": "python",
   "name": "python3"
  },
  "language_info": {
   "codemirror_mode": {
    "name": "ipython",
    "version": 3
   },
   "file_extension": ".py",
   "mimetype": "text/x-python",
   "name": "python",
   "nbconvert_exporter": "python",
   "pygments_lexer": "ipython3",
   "version": "3.6.9"
  }
 },
 "nbformat": 4,
 "nbformat_minor": 4
}
