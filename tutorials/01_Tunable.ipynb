{
 "cells": [
  {
   "cell_type": "markdown",
   "metadata": {},
   "source": [
    "# Tunable\n",
    "\n",
    "## Introduction\n",
    "\n",
    "`Tunable` is a class specifically designed to represent a tuning\n",
    "problem. This class is a collection of `Hyperparameters` objects\n",
    "and interacts with them as one. This `Tunable` is used by the `Tuners` in order to solve the tuning problem that this represents.\n",
    "\n",
    "### Hyperparameters\n",
    "\n",
    "BTB comes with the following `hyperparameters`:\n",
    "\n",
    "- `BooleanHyperParam`: create a search space for boolean values i.e: `True` or `False`.\n",
    "- `CategoricalHyperParam`: create a search space for categorical values i.e: \"foo\", \"bar\".\n",
    "- `FloatHyperParam`: create a search space for `float` values i.e: `0.0 - 1.0`\n",
    "- `IntHyperParam`: create a search space for `int` values i.e: `0 - 1`\n",
    "\n",
    "The BTB hyperparameters are using two `spaces`:\n",
    "- Hyperparameter space: the set of all values that are searched.\n",
    "- Search Space: normalized search space $[0, 1]^K$.\n",
    "\n",
    "There are the following methods to interact with the `hyperparameter`:\n",
    "\n",
    "- `inverse_transform`: invert one or more search space values.\n",
    "- `transform`: transform one or more hyperparameter values.\n",
    "- `sample`: generate an array of `n_samples` random samples in the search space.\n",
    "\n",
    "See an example below:"
   ]
  },
  {
   "cell_type": "code",
   "execution_count": 1,
   "metadata": {},
   "outputs": [],
   "source": [
    "from btb.tuning.hyperparams import IntHyperParam\n",
    "\n",
    "ihp = IntHyperParam(min=0, max=4)"
   ]
  },
  {
   "cell_type": "markdown",
   "metadata": {},
   "source": [
    "We will sample one value of this hyperparameter: "
   ]
  },
  {
   "cell_type": "code",
   "execution_count": 2,
   "metadata": {},
   "outputs": [
    {
     "data": {
      "text/plain": [
       "array([[0.3]])"
      ]
     },
     "execution_count": 2,
     "metadata": {},
     "output_type": "execute_result"
    }
   ],
   "source": [
    "sample = ihp.sample(1)\n",
    "sample"
   ]
  },
  {
   "cell_type": "markdown",
   "metadata": {},
   "source": [
    "As you can see, our sample is within the space of $[0, 1]$, let's now see what value is holding this `sample` by calling the method `inverse_transform`."
   ]
  },
  {
   "cell_type": "code",
   "execution_count": 3,
   "metadata": {},
   "outputs": [
    {
     "data": {
      "text/plain": [
       "array([[1]])"
      ]
     },
     "execution_count": 3,
     "metadata": {},
     "output_type": "execute_result"
    }
   ],
   "source": [
    "inverse = ihp.inverse_transform(sample)\n",
    "inverse"
   ]
  },
  {
   "cell_type": "markdown",
   "metadata": {},
   "source": [
    "As you can see, now our value is within the `hyperparameter space`, wich is: $[0, 4]$.\n",
    "\n",
    "Let's transform the value `4` to see its representation in the `search space`."
   ]
  },
  {
   "cell_type": "code",
   "execution_count": 4,
   "metadata": {},
   "outputs": [
    {
     "data": {
      "text/plain": [
       "array([[0.9]])"
      ]
     },
     "execution_count": 4,
     "metadata": {},
     "output_type": "execute_result"
    }
   ],
   "source": [
    "ihp.transform(4)"
   ]
  },
  {
   "cell_type": "markdown",
   "metadata": {},
   "source": [
    "As you can see, the representation of this number is `0.9` "
   ]
  },
  {
   "cell_type": "markdown",
   "metadata": {},
   "source": [
    "### Creating a Tunable\n",
    "\n",
    "As we mentioned before, the `Tunable` works with a given collection of hyperparameters as one, which means, that our `Tunable` class is capable of calling the appropiate method for each hyperparameter. For example when calling `Tunable.sample` we will generate random samples for the collection of hyperparameters that is inside.\n",
    "\n",
    "There are two ways to create a tunable:\n",
    "\n",
    "- From a dictionary with the name of the parameter and its instance of the hyperparameter as value.\n",
    "- From a dictionary representing the hyperparameters.\n",
    "\n",
    "#### From a dictionary with the instance of the hyperparameters\n",
    "\n",
    "We will start by importing the `hyperparameters` and the `Tunable`, creating a dictionary with the name of the\n",
    "parameter and then creating the `Tunable` object:"
   ]
  },
  {
   "cell_type": "code",
   "execution_count": 5,
   "metadata": {},
   "outputs": [],
   "source": [
    "from btb.tuning.hyperparams import (BooleanHyperParam, CategoricalHyperParam,\n",
    "                                    FloatHyperParam, IntHyperParam)\n",
    "from btb.tuning.tunable import Tunable"
   ]
  },
  {
   "cell_type": "code",
   "execution_count": 6,
   "metadata": {},
   "outputs": [],
   "source": [
    "hyperparams = {\n",
    "    'boolean_hp': BooleanHyperParam(),\n",
    "    'categorical_hp': CategoricalHyperParam(['foo', 'bar']),\n",
    "    'float_hp': FloatHyperParam(min=0, max=1),\n",
    "    'int_hp': IntHyperParam(min=1, max=10),\n",
    "}"
   ]
  },
  {
   "cell_type": "markdown",
   "metadata": {},
   "source": [
    "As you can see, we have created a hyperparameter for each of the types available at the moment.\n",
    "Now, let's create a `Tunable` instance and let's try it out."
   ]
  },
  {
   "cell_type": "code",
   "execution_count": 7,
   "metadata": {},
   "outputs": [],
   "source": [
    "tunable = Tunable(hyperparams)"
   ]
  },
  {
   "cell_type": "markdown",
   "metadata": {},
   "source": [
    "#### From a dictionary representing the hyperparameters\n",
    "\n",
    "The class `Tunable` allows you to instantiate `from_dict` wich accepts as an input a python dictionary containing as `key` the given name for the hyperparameter and as value a dictionary containing the following keys:\n",
    "\n",
    "- `type` (str): ``bool`` for ``BoolHyperParam``, ``int`` for ``IntHyperParam``, ``float`` for ``FloatHyperParam``, ``str`` for ``CategoricalHyperParam``.\n",
    "\n",
    "- `range` or `values` (list): range / values that this hyperparameter can take, in case of ``CategoricalHyperParam`` those will be used as the ``choices``, for ``NumericalHyperParams`` the ``min`` value will be used as the minimum value and the ``max`` value will be used as the ``maximum`` value.\n",
    "\n",
    "- `default` (str, bool, int, float or None): The default value for the hyperparameter. \n",
    "\n",
    "The above `hyperparams` can be represented as follows:"
   ]
  },
  {
   "cell_type": "code",
   "execution_count": 8,
   "metadata": {},
   "outputs": [],
   "source": [
    "hyperparams = {\n",
    "    'boolean_hp': {\n",
    "        'type': 'bool',\n",
    "    },\n",
    "    'categorical_hp': {\n",
    "        'type': 'str',\n",
    "        'values': ['foo', 'bar'],\n",
    "        'default': 'foo'\n",
    "    },\n",
    "    'float_hp': {\n",
    "        'type': 'float',\n",
    "        'values': [0, 1]\n",
    "    },\n",
    "    'int_hp': {\n",
    "        'type': 'int',\n",
    "        'values': [1, 10],\n",
    "    }\n",
    "}"
   ]
  },
  {
   "cell_type": "code",
   "execution_count": 9,
   "metadata": {},
   "outputs": [],
   "source": [
    "tunable = Tunable.from_dict(hyperparams)"
   ]
  },
  {
   "cell_type": "markdown",
   "metadata": {},
   "source": [
    "Now, when we call the `sample` method of `tunable` we will create a sample for each one of the hyperparameters taht we specified above."
   ]
  },
  {
   "cell_type": "code",
   "execution_count": 10,
   "metadata": {},
   "outputs": [
    {
     "data": {
      "text/plain": [
       "array([[1.        , 1.        , 0.        , 0.58846476, 0.15      ]])"
      ]
     },
     "execution_count": 10,
     "metadata": {},
     "output_type": "execute_result"
    }
   ],
   "source": [
    "sample = tunable.sample(1)\n",
    "sample"
   ]
  },
  {
   "cell_type": "markdown",
   "metadata": {},
   "source": [
    "As you can see, now we have more values than before. Basicly, our tuner, called each hyperparameter's sample and gave them to us as one.\n",
    "\n",
    "We can use the `inverse_transform` method to read properly the values that were generated by the `sample`:"
   ]
  },
  {
   "cell_type": "code",
   "execution_count": 11,
   "metadata": {},
   "outputs": [
    {
     "data": {
      "text/html": [
       "<div>\n",
       "<style scoped>\n",
       "    .dataframe tbody tr th:only-of-type {\n",
       "        vertical-align: middle;\n",
       "    }\n",
       "\n",
       "    .dataframe tbody tr th {\n",
       "        vertical-align: top;\n",
       "    }\n",
       "\n",
       "    .dataframe thead th {\n",
       "        text-align: right;\n",
       "    }\n",
       "</style>\n",
       "<table border=\"1\" class=\"dataframe\">\n",
       "  <thead>\n",
       "    <tr style=\"text-align: right;\">\n",
       "      <th></th>\n",
       "      <th>boolean_hp</th>\n",
       "      <th>categorical_hp</th>\n",
       "      <th>float_hp</th>\n",
       "      <th>int_hp</th>\n",
       "    </tr>\n",
       "  </thead>\n",
       "  <tbody>\n",
       "    <tr>\n",
       "      <th>0</th>\n",
       "      <td>True</td>\n",
       "      <td>foo</td>\n",
       "      <td>0.588465</td>\n",
       "      <td>2</td>\n",
       "    </tr>\n",
       "  </tbody>\n",
       "</table>\n",
       "</div>"
      ],
      "text/plain": [
       "  boolean_hp categorical_hp  float_hp int_hp\n",
       "0       True            foo  0.588465      2"
      ]
     },
     "execution_count": 11,
     "metadata": {},
     "output_type": "execute_result"
    }
   ],
   "source": [
    "inverse = tunable.inverse_transform(sample)\n",
    "inverse"
   ]
  },
  {
   "cell_type": "markdown",
   "metadata": {},
   "source": [
    "This returns a `pandas.DataFrame`, so we can use `.to_dict(orient='records')` if we would like to obtain a dictionary and use it as `kwargs`. "
   ]
  },
  {
   "cell_type": "code",
   "execution_count": 12,
   "metadata": {},
   "outputs": [
    {
     "data": {
      "text/plain": [
       "{'boolean_hp': True,\n",
       " 'categorical_hp': 'foo',\n",
       " 'float_hp': 0.5884647611762291,\n",
       " 'int_hp': 2}"
      ]
     },
     "execution_count": 12,
     "metadata": {},
     "output_type": "execute_result"
    }
   ],
   "source": [
    "inverse_dict = inverse.to_dict(orient='records')[0]\n",
    "inverse_dict"
   ]
  },
  {
   "cell_type": "markdown",
   "metadata": {},
   "source": [
    "Finally, we can use the `transform` method to conver the given values in to a `search space` again. "
   ]
  },
  {
   "cell_type": "code",
   "execution_count": 13,
   "metadata": {},
   "outputs": [
    {
     "data": {
      "text/plain": [
       "array([[1.        , 1.        , 0.        , 0.58846476, 0.15      ]])"
      ]
     },
     "execution_count": 13,
     "metadata": {},
     "output_type": "execute_result"
    }
   ],
   "source": [
    "tunable.transform(inverse_dict)"
   ]
  }
 ],
 "metadata": {
  "kernelspec": {
   "display_name": "Python 3",
   "language": "python",
   "name": "python3"
  },
  "language_info": {
   "codemirror_mode": {
    "name": "ipython",
    "version": 3
   },
   "file_extension": ".py",
   "mimetype": "text/x-python",
   "name": "python",
   "nbconvert_exporter": "python",
   "pygments_lexer": "ipython3",
   "version": "3.6.9"
  }
 },
 "nbformat": 4,
 "nbformat_minor": 4
}
