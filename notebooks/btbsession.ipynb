{
 "cells": [
  {
   "cell_type": "code",
   "execution_count": 1,
   "metadata": {},
   "outputs": [],
   "source": [
    "import warnings\n",
    "\n",
    "warnings.filterwarnings('ignore')"
   ]
  },
  {
   "cell_type": "markdown",
   "metadata": {},
   "source": [
    "### Import boston dataset"
   ]
  },
  {
   "cell_type": "code",
   "execution_count": 2,
   "metadata": {},
   "outputs": [],
   "source": [
    "from sklearn.datasets import load_boston as load_dataset\n",
    "\n",
    "dataset = load_dataset()"
   ]
  },
  {
   "cell_type": "markdown",
   "metadata": {},
   "source": [
    "#### Import train_test_split and generate X_train, X_test, y_train, y_test"
   ]
  },
  {
   "cell_type": "code",
   "execution_count": 3,
   "metadata": {},
   "outputs": [],
   "source": [
    "from sklearn.model_selection import train_test_split\n",
    "\n",
    "X_train, X_test, y_train, y_test = train_test_split(\n",
    "    dataset.data, dataset.target, test_size=0.3, random_state=0)"
   ]
  },
  {
   "cell_type": "markdown",
   "metadata": {},
   "source": [
    "### Import the metric and the estimators"
   ]
  },
  {
   "cell_type": "code",
   "execution_count": 5,
   "metadata": {},
   "outputs": [
    {
     "data": {
      "text/plain": [
       "0.7149946643194653"
      ]
     },
     "execution_count": 5,
     "metadata": {},
     "output_type": "execute_result"
    }
   ],
   "source": [
    "from sklearn.metrics import r2_score\n",
    "from sklearn.ensemble import RandomForestRegressor\n",
    "from sklearn.ensemble import ExtraTreesRegressor\n",
    "\n",
    "# NOTE: The default hyperparameters are intentionally bad\n",
    "# to give more room for improvement during the BTBSession demo\n",
    "default_hyperparams = {\n",
    "    'n_estimators': 2,\n",
    "    'max_features': 'log2',\n",
    "    'min_samples_split': 2,\n",
    "    'min_samples_leaf': 2,\n",
    "}\n",
    "\n",
    "rf = RandomForestRegressor(random_state=0, **default_hyperparams)\n",
    "\n",
    "rf.fit(X_train, y_train)\n",
    "pred = rf.predict(X_test)\n",
    "\n",
    "r2_score(y_test, pred)"
   ]
  },
  {
   "cell_type": "code",
   "execution_count": 7,
   "metadata": {},
   "outputs": [
    {
     "data": {
      "text/plain": [
       "0.6108880572971567"
      ]
     },
     "execution_count": 7,
     "metadata": {},
     "output_type": "execute_result"
    }
   ],
   "source": [
    "et = ExtraTreesRegressor(random_state=0, **default_hyperparams)\n",
    "\n",
    "et.fit(X_train, y_train)\n",
    "pred = et.predict(X_test)\n",
    "\n",
    "r2_score(y_test, pred)"
   ]
  },
  {
   "cell_type": "code",
   "execution_count": 8,
   "metadata": {},
   "outputs": [],
   "source": [
    "tunables = {\n",
    "    'random_forest': {\n",
    "        'n_estimators': {'type': 'int', 'default': 2, 'range': [1, 1000]},\n",
    "        'max_features': {'type': 'str', 'default': 'log2', 'range': [None, 'auto', 'log2', 'sqrt']},\n",
    "        'min_samples_split': {'type': 'int', 'default': 2, 'range': [2, 20]},\n",
    "        'min_samples_leaf': {'type': 'int', 'default': 2, 'range': [1, 20]},\n",
    "    },\n",
    "    'extra_trees': {\n",
    "        'n_estimators': {'type': 'int', 'default': 2, 'range': [1, 1000]},\n",
    "        'max_features': {'type': 'str', 'default': 'log2', 'range': [None, 'auto', 'log2', 'sqrt']},\n",
    "        'min_samples_split': {'type': 'int', 'default': 2, 'range': [2, 20]},\n",
    "        'min_samples_leaf': {'type': 'int', 'default': 2, 'range': [1, 20]},\n",
    "    }\n",
    "}"
   ]
  },
  {
   "cell_type": "code",
   "execution_count": 9,
   "metadata": {},
   "outputs": [],
   "source": [
    "from sklearn.model_selection import cross_val_score\n",
    "from sklearn.metrics import make_scorer\n",
    "\n",
    "models = {\n",
    "    'random_forest': RandomForestRegressor,\n",
    "    'extra_trees': ExtraTreesRegressor,\n",
    "}\n",
    "\n",
    "def build_model(name, hyperparameters):\n",
    "    model_class = models[name]\n",
    "    return model_class(random_state=0, **hyperparameters)\n",
    "\n",
    "def score_model(name, hyperparameters):\n",
    "    model = build_model(name, hyperparameters)\n",
    "    r2_scorer = make_scorer(r2_score)\n",
    "    scores = cross_val_score(model, X_train, y_train, scoring=r2_scorer)\n",
    "    return scores.mean()"
   ]
  },
  {
   "cell_type": "code",
   "execution_count": 10,
   "metadata": {},
   "outputs": [],
   "source": [
    "from btb.session import BTBSession\n",
    "\n",
    "session = BTBSession(tunables, score_model, verbose=True)"
   ]
  },
  {
   "cell_type": "code",
   "execution_count": 11,
   "metadata": {},
   "outputs": [
    {
     "data": {
      "application/vnd.jupyter.widget-view+json": {
       "model_id": "7dc91f47724e4383aea5e4e3f9a77f4c",
       "version_major": 2,
       "version_minor": 0
      },
      "text/plain": [
       "HBox(children=(IntProgress(value=0, max=2), HTML(value='')))"
      ]
     },
     "metadata": {},
     "output_type": "display_data"
    },
    {
     "name": "stdout",
     "output_type": "stream",
     "text": [
      "\n"
     ]
    },
    {
     "data": {
      "text/plain": [
       "{'id': 'd02e055a1279d42b74169151047c542c',\n",
       " 'name': 'extra_trees',\n",
       " 'config': {'n_estimators': 2,\n",
       "  'max_features': 'log2',\n",
       "  'min_samples_split': 2,\n",
       "  'min_samples_leaf': 2},\n",
       " 'score': 0.7294475145162741}"
      ]
     },
     "execution_count": 11,
     "metadata": {},
     "output_type": "execute_result"
    }
   ],
   "source": [
    "session.run(iterations=2)  # Run two iterations, this will execute with default hyperparameters"
   ]
  },
  {
   "cell_type": "code",
   "execution_count": 12,
   "metadata": {},
   "outputs": [
    {
     "data": {
      "text/plain": [
       "{'40e9094fa4b1901410b62c95ecbe9a21': {'id': '40e9094fa4b1901410b62c95ecbe9a21',\n",
       "  'name': 'random_forest',\n",
       "  'config': {'n_estimators': 2,\n",
       "   'max_features': 'log2',\n",
       "   'min_samples_split': 2,\n",
       "   'min_samples_leaf': 2},\n",
       "  'score': 0.7096417128432014},\n",
       " 'd02e055a1279d42b74169151047c542c': {'id': 'd02e055a1279d42b74169151047c542c',\n",
       "  'name': 'extra_trees',\n",
       "  'config': {'n_estimators': 2,\n",
       "   'max_features': 'log2',\n",
       "   'min_samples_split': 2,\n",
       "   'min_samples_leaf': 2},\n",
       "  'score': 0.7294475145162741}}"
      ]
     },
     "execution_count": 12,
     "metadata": {},
     "output_type": "execute_result"
    }
   ],
   "source": [
    "session.proposals"
   ]
  },
  {
   "cell_type": "code",
   "execution_count": 13,
   "metadata": {
    "scrolled": true
   },
   "outputs": [
    {
     "data": {
      "application/vnd.jupyter.widget-view+json": {
       "model_id": "ed0d4e3190c84fe697f0a8231b31e756",
       "version_major": 2,
       "version_minor": 0
      },
      "text/plain": [
       "HBox(children=(IntProgress(value=0), HTML(value='')))"
      ]
     },
     "metadata": {},
     "output_type": "display_data"
    },
    {
     "name": "stdout",
     "output_type": "stream",
     "text": [
      "\n"
     ]
    }
   ],
   "source": [
    "best_proposal = session.run(iterations=100)"
   ]
  },
  {
   "cell_type": "code",
   "execution_count": 14,
   "metadata": {},
   "outputs": [
    {
     "data": {
      "text/plain": [
       "{'id': '9bf55747610213f8f5818736ee9ab4d3',\n",
       " 'name': 'extra_trees',\n",
       " 'config': {'n_estimators': 963,\n",
       "  'max_features': 'log2',\n",
       "  'min_samples_split': 2,\n",
       "  'min_samples_leaf': 1},\n",
       " 'score': 0.8681428320368964}"
      ]
     },
     "execution_count": 14,
     "metadata": {},
     "output_type": "execute_result"
    }
   ],
   "source": [
    "best_proposal"
   ]
  },
  {
   "cell_type": "code",
   "execution_count": 15,
   "metadata": {},
   "outputs": [],
   "source": [
    "best_model = build_model(best_proposal['name'], best_proposal['config'])"
   ]
  },
  {
   "cell_type": "code",
   "execution_count": 16,
   "metadata": {},
   "outputs": [
    {
     "data": {
      "text/plain": [
       "0.8002871087417817"
      ]
     },
     "execution_count": 16,
     "metadata": {},
     "output_type": "execute_result"
    }
   ],
   "source": [
    "best_model.fit(X_train, y_train)\n",
    "pred = best_model.predict(X_test)\n",
    "\n",
    "r2_score(y_test, pred)"
   ]
  }
 ],
 "metadata": {
  "kernelspec": {
   "display_name": "Python 3",
   "language": "python",
   "name": "python3"
  },
  "language_info": {
   "codemirror_mode": {
    "name": "ipython",
    "version": 3
   },
   "file_extension": ".py",
   "mimetype": "text/x-python",
   "name": "python",
   "nbconvert_exporter": "python",
   "pygments_lexer": "ipython3",
   "version": "3.6.8"
  }
 },
 "nbformat": 4,
 "nbformat_minor": 2
}
