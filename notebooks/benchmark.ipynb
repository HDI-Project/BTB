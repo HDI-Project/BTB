{
 "cells": [
  {
   "cell_type": "code",
   "execution_count": 1,
   "metadata": {},
   "outputs": [],
   "source": [
    "import warnings\n",
    "warnings.filterwarnings('ignore')"
   ]
  },
  {
   "cell_type": "markdown",
   "metadata": {},
   "source": [
    "Import the `benchmark` method and the tuners that we would like to use"
   ]
  },
  {
   "cell_type": "code",
   "execution_count": 2,
   "metadata": {},
   "outputs": [],
   "source": [
    "from btb.benchmark import benchmark\n",
    "from btb.benchmark.tuners.btb import make_tuning_function\n",
    "from btb.tuning.tuners import GPTuner, GPEiTuner"
   ]
  },
  {
   "cell_type": "markdown",
   "metadata": {},
   "source": [
    "Run `benchmark` function over a tuner by creating a tuning function with the help of `make_tuning_function` "
   ]
  },
  {
   "cell_type": "code",
   "execution_count": 3,
   "metadata": {},
   "outputs": [],
   "source": [
    "tuning_functions = {\n",
    "    'GPTuner': make_tuning_function(GPTuner),\n",
    "    'GPEiTuner': make_tuning_function(GPEiTuner)\n",
    "}"
   ]
  },
  {
   "cell_type": "code",
   "execution_count": 4,
   "metadata": {},
   "outputs": [
    {
     "data": {
      "text/html": [
       "<div>\n",
       "<style scoped>\n",
       "    .dataframe tbody tr th:only-of-type {\n",
       "        vertical-align: middle;\n",
       "    }\n",
       "\n",
       "    .dataframe tbody tr th {\n",
       "        vertical-align: top;\n",
       "    }\n",
       "\n",
       "    .dataframe thead th {\n",
       "        text-align: right;\n",
       "    }\n",
       "</style>\n",
       "<table border=\"1\" class=\"dataframe\">\n",
       "  <thead>\n",
       "    <tr style=\"text-align: right;\">\n",
       "      <th></th>\n",
       "      <th>Bohachevsky</th>\n",
       "      <th>Branin</th>\n",
       "      <th>Rosenbrock</th>\n",
       "      <th>Mean</th>\n",
       "      <th>Std</th>\n",
       "    </tr>\n",
       "  </thead>\n",
       "  <tbody>\n",
       "    <tr>\n",
       "      <th>GPEiTuner</th>\n",
       "      <td>-1.6</td>\n",
       "      <td>-0.399307</td>\n",
       "      <td>-416.0</td>\n",
       "      <td>-139.333102</td>\n",
       "      <td>195.633654</td>\n",
       "    </tr>\n",
       "    <tr>\n",
       "      <th>GPTuner</th>\n",
       "      <td>-1.6</td>\n",
       "      <td>-0.398190</td>\n",
       "      <td>0.0</td>\n",
       "      <td>-0.666063</td>\n",
       "      <td>0.680106</td>\n",
       "    </tr>\n",
       "  </tbody>\n",
       "</table>\n",
       "</div>"
      ],
      "text/plain": [
       "           Bohachevsky    Branin  Rosenbrock        Mean         Std\n",
       "GPEiTuner         -1.6 -0.399307      -416.0 -139.333102  195.633654\n",
       "GPTuner           -1.6 -0.398190         0.0   -0.666063    0.680106"
      ]
     },
     "execution_count": 4,
     "metadata": {},
     "output_type": "execute_result"
    }
   ],
   "source": [
    "benchmark(tuning_functions, iterations=200)"
   ]
  }
 ],
 "metadata": {
  "kernelspec": {
   "display_name": "Python 3",
   "language": "python",
   "name": "python3"
  },
  "language_info": {
   "codemirror_mode": {
    "name": "ipython",
    "version": 3
   },
   "file_extension": ".py",
   "mimetype": "text/x-python",
   "name": "python",
   "nbconvert_exporter": "python",
   "pygments_lexer": "ipython3",
   "version": "3.6.8"
  }
 },
 "nbformat": 4,
 "nbformat_minor": 2
}
