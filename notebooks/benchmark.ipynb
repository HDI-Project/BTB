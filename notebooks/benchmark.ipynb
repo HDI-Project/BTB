{
 "cells": [
  {
   "cell_type": "code",
   "execution_count": 10,
   "metadata": {},
   "outputs": [],
   "source": [
    "import warnings\n",
    "warnings.filterwarnings('ignore')"
   ]
  },
  {
   "cell_type": "markdown",
   "metadata": {},
   "source": [
    "Import the `benchmark` method and the tuners that we would like to use"
   ]
  },
  {
   "cell_type": "code",
   "execution_count": 11,
   "metadata": {},
   "outputs": [],
   "source": [
    "from btb.benchmark import benchmark\n",
    "from btb.benchmark.tuners.btb import make_tuning_function\n",
    "from btb.tuning.tuners import GPTuner, GPEiTuner"
   ]
  },
  {
   "cell_type": "markdown",
   "metadata": {},
   "source": [
    "Run `benchmark` function over a tuner with it's `as_tuning_function` "
   ]
  },
  {
   "cell_type": "code",
   "execution_count": 14,
   "metadata": {},
   "outputs": [],
   "source": [
    "tuning_functions = {\n",
    "    'GPTuner': make_tuning_function(GPTuner),\n",
    "    'GPEiTuner': make_tuning_function(GPEiTuner)\n",
    "}"
   ]
  },
  {
   "cell_type": "code",
   "execution_count": 15,
   "metadata": {},
   "outputs": [
    {
     "data": {
      "text/html": [
       "<div>\n",
       "<style scoped>\n",
       "    .dataframe tbody tr th:only-of-type {\n",
       "        vertical-align: middle;\n",
       "    }\n",
       "\n",
       "    .dataframe tbody tr th {\n",
       "        vertical-align: top;\n",
       "    }\n",
       "\n",
       "    .dataframe thead th {\n",
       "        text-align: right;\n",
       "    }\n",
       "</style>\n",
       "<table border=\"1\" class=\"dataframe\">\n",
       "  <thead>\n",
       "    <tr style=\"text-align: right;\">\n",
       "      <th></th>\n",
       "      <th>challenge</th>\n",
       "      <th>iterations</th>\n",
       "      <th>score</th>\n",
       "      <th>tuner</th>\n",
       "      <th>avg</th>\n",
       "    </tr>\n",
       "  </thead>\n",
       "  <tbody>\n",
       "    <tr>\n",
       "      <th>0</th>\n",
       "      <td>Bohachevsky</td>\n",
       "      <td>150</td>\n",
       "      <td>-6.000000e+00</td>\n",
       "      <td>GPTuner</td>\n",
       "      <td>2.068624e+08</td>\n",
       "    </tr>\n",
       "    <tr>\n",
       "      <th>1</th>\n",
       "      <td>Bohachevsky</td>\n",
       "      <td>150</td>\n",
       "      <td>-1.600000e+00</td>\n",
       "      <td>GPEiTuner</td>\n",
       "      <td>2.068624e+08</td>\n",
       "    </tr>\n",
       "    <tr>\n",
       "      <th>2</th>\n",
       "      <td>Branin</td>\n",
       "      <td>150</td>\n",
       "      <td>-3.981789e-01</td>\n",
       "      <td>GPTuner</td>\n",
       "      <td>2.068624e+08</td>\n",
       "    </tr>\n",
       "    <tr>\n",
       "      <th>3</th>\n",
       "      <td>Branin</td>\n",
       "      <td>150</td>\n",
       "      <td>-3.983671e-01</td>\n",
       "      <td>GPEiTuner</td>\n",
       "      <td>2.068624e+08</td>\n",
       "    </tr>\n",
       "    <tr>\n",
       "      <th>4</th>\n",
       "      <td>Rosenbrock</td>\n",
       "      <td>150</td>\n",
       "      <td>6.492280e+08</td>\n",
       "      <td>GPTuner</td>\n",
       "      <td>2.068624e+08</td>\n",
       "    </tr>\n",
       "    <tr>\n",
       "      <th>5</th>\n",
       "      <td>Rosenbrock</td>\n",
       "      <td>150</td>\n",
       "      <td>5.919466e+08</td>\n",
       "      <td>GPEiTuner</td>\n",
       "      <td>2.068624e+08</td>\n",
       "    </tr>\n",
       "  </tbody>\n",
       "</table>\n",
       "</div>"
      ],
      "text/plain": [
       "     challenge  iterations         score      tuner           avg\n",
       "0  Bohachevsky         150 -6.000000e+00    GPTuner  2.068624e+08\n",
       "1  Bohachevsky         150 -1.600000e+00  GPEiTuner  2.068624e+08\n",
       "2       Branin         150 -3.981789e-01    GPTuner  2.068624e+08\n",
       "3       Branin         150 -3.983671e-01  GPEiTuner  2.068624e+08\n",
       "4   Rosenbrock         150  6.492280e+08    GPTuner  2.068624e+08\n",
       "5   Rosenbrock         150  5.919466e+08  GPEiTuner  2.068624e+08"
      ]
     },
     "execution_count": 15,
     "metadata": {},
     "output_type": "execute_result"
    }
   ],
   "source": [
    "benchmark(tuning_functions, iterations=150)"
   ]
  },
  {
   "cell_type": "markdown",
   "metadata": {},
   "source": [
    "We can also pass parameters for the `Tuner` as shown below"
   ]
  },
  {
   "cell_type": "code",
   "execution_count": 16,
   "metadata": {},
   "outputs": [
    {
     "data": {
      "text/html": [
       "<div>\n",
       "<style scoped>\n",
       "    .dataframe tbody tr th:only-of-type {\n",
       "        vertical-align: middle;\n",
       "    }\n",
       "\n",
       "    .dataframe tbody tr th {\n",
       "        vertical-align: top;\n",
       "    }\n",
       "\n",
       "    .dataframe thead th {\n",
       "        text-align: right;\n",
       "    }\n",
       "</style>\n",
       "<table border=\"1\" class=\"dataframe\">\n",
       "  <thead>\n",
       "    <tr style=\"text-align: right;\">\n",
       "      <th></th>\n",
       "      <th>challenge</th>\n",
       "      <th>iterations</th>\n",
       "      <th>score</th>\n",
       "      <th>tuner</th>\n",
       "      <th>avg</th>\n",
       "    </tr>\n",
       "  </thead>\n",
       "  <tbody>\n",
       "    <tr>\n",
       "      <th>0</th>\n",
       "      <td>Bohachevsky</td>\n",
       "      <td>250</td>\n",
       "      <td>-3.600000e+00</td>\n",
       "      <td>GPTuner</td>\n",
       "      <td>2.134571e+08</td>\n",
       "    </tr>\n",
       "    <tr>\n",
       "      <th>1</th>\n",
       "      <td>Bohachevsky</td>\n",
       "      <td>250</td>\n",
       "      <td>-1.600000e+00</td>\n",
       "      <td>GPEiTuner</td>\n",
       "      <td>2.134571e+08</td>\n",
       "    </tr>\n",
       "    <tr>\n",
       "      <th>2</th>\n",
       "      <td>Branin</td>\n",
       "      <td>250</td>\n",
       "      <td>-3.981019e-01</td>\n",
       "      <td>GPTuner</td>\n",
       "      <td>2.134571e+08</td>\n",
       "    </tr>\n",
       "    <tr>\n",
       "      <th>3</th>\n",
       "      <td>Branin</td>\n",
       "      <td>250</td>\n",
       "      <td>-3.982510e-01</td>\n",
       "      <td>GPEiTuner</td>\n",
       "      <td>2.134571e+08</td>\n",
       "    </tr>\n",
       "    <tr>\n",
       "      <th>4</th>\n",
       "      <td>Rosenbrock</td>\n",
       "      <td>250</td>\n",
       "      <td>6.492280e+08</td>\n",
       "      <td>GPTuner</td>\n",
       "      <td>2.134571e+08</td>\n",
       "    </tr>\n",
       "    <tr>\n",
       "      <th>5</th>\n",
       "      <td>Rosenbrock</td>\n",
       "      <td>250</td>\n",
       "      <td>6.315145e+08</td>\n",
       "      <td>GPEiTuner</td>\n",
       "      <td>2.134571e+08</td>\n",
       "    </tr>\n",
       "  </tbody>\n",
       "</table>\n",
       "</div>"
      ],
      "text/plain": [
       "     challenge  iterations         score      tuner           avg\n",
       "0  Bohachevsky         250 -3.600000e+00    GPTuner  2.134571e+08\n",
       "1  Bohachevsky         250 -1.600000e+00  GPEiTuner  2.134571e+08\n",
       "2       Branin         250 -3.981019e-01    GPTuner  2.134571e+08\n",
       "3       Branin         250 -3.982510e-01  GPEiTuner  2.134571e+08\n",
       "4   Rosenbrock         250  6.492280e+08    GPTuner  2.134571e+08\n",
       "5   Rosenbrock         250  6.315145e+08  GPEiTuner  2.134571e+08"
      ]
     },
     "execution_count": 16,
     "metadata": {},
     "output_type": "execute_result"
    }
   ],
   "source": [
    "tuning_functions = {\n",
    "    'GPTuner': make_tuning_function(GPTuner, min_trials=10),\n",
    "    'GPEiTuner': make_tuning_function(GPEiTuner, min_trials=10)\n",
    "}\n",
    "benchmark(tuning_functions, iterations=250)"
   ]
  }
 ],
 "metadata": {
  "kernelspec": {
   "display_name": "Python 3",
   "language": "python",
   "name": "python3"
  },
  "language_info": {
   "codemirror_mode": {
    "name": "ipython",
    "version": 3
   },
   "file_extension": ".py",
   "mimetype": "text/x-python",
   "name": "python",
   "nbconvert_exporter": "python",
   "pygments_lexer": "ipython3",
   "version": "3.6.8"
  }
 },
 "nbformat": 4,
 "nbformat_minor": 2
}
