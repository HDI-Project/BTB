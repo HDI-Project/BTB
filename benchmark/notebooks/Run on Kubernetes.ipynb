{
 "cells": [
  {
   "cell_type": "markdown",
   "metadata": {},
   "source": [
    "#  Run on Kubernetes\n",
    "\n",
    "Run benchmarking on a kubernetes cluster with the given configuration.\n",
    "\n",
    "Talks to kubernetes to create `n` amount of new `pods` with a dask worker inside of each\n",
    "forming a `dask` cluster. Then, a function specified from `config` is being imported and\n",
    "run with the given arguments. The tasks created by this `function` are being run on the\n",
    "`dask` cluster for distributed computation.\n",
    "\n",
    "The config dict must contain the following sections:\n",
    "* run\n",
    "* dask_cluster\n",
    "\n",
    "Within the `run` section you need to specify:\n",
    "* function:\n",
    "    The complete python path to the function to be run.\n",
    "* args:\n",
    "    A dictionary containing the keyword args that will be used with the given function.\n",
    "\n",
    "Within the `dask_cluster` section you can specify:\n",
    "* workers:\n",
    "    The amount of workers to use.\n",
    "   \n",
    "* worker_config: A dictionary with the following keys:\n",
    "    * resources: A dictionary containig the following keys:\n",
    "        * memory:\n",
    "            The amount of RAM memory.\n",
    "        * cpu:\n",
    "            The amount of cpu's to use.\n",
    "    * image: A docker image to be used (optional).\n",
    "    * setup: A dictionary containing the following keys:\n",
    "        * script: Location to bash script from the docker container to be run.\n",
    "        * git_repository: A dictionary containing the following keys:\n",
    "            * url: Link to the github repository to be cloned.\n",
    "            * reference: A reference to the branch or commit to checkout at.\n",
    "            * install: command run to install this repository.\n",
    "        * pip_packages: A list of pip packages to be installed.\n",
    "        * apt_packages: A list of apt packages to be installed."
   ]
  },
  {
   "cell_type": "code",
   "execution_count": 1,
   "metadata": {},
   "outputs": [],
   "source": [
    "config = {\n",
    "    'run': {\n",
    "        'function': 'btb_benchmark.main.run_benchmark',\n",
    "        'args': {\n",
    "            'iterations': 1,\n",
    "            'sample': 1,\n",
    "            'tuners': 'BTB.UniformTuner',\n",
    "            'challenge_types': 'xgboost',\n",
    "            'detailed_output': True,\n",
    "        }\n",
    "    },\n",
    "    'dask_cluster': {\n",
    "        'workers': {\n",
    "            'maximum': 1\n",
    "        },\n",
    "        'worker_config': {\n",
    "            'resources': {\n",
    "                'memory': '2G',\n",
    "                'cpu': 1\n",
    "            },\n",
    "            'image': 'pythiac/btb_benchmark:latest',\n",
    "        },\n",
    "    },\n",
    "}"
   ]
  },
  {
   "cell_type": "markdown",
   "metadata": {},
   "source": [
    "After we created our config dictionary, we can now run `run_benchmark` with the specified config"
   ]
  },
  {
   "cell_type": "code",
   "execution_count": 13,
   "metadata": {
    "scrolled": false
   },
   "outputs": [
    {
     "name": "stderr",
     "output_type": "stream",
     "text": [
      "distributed.scheduler - INFO - Clear task state\n",
      "distributed.scheduler - INFO -   Scheduler at: tcp://192.168.1.132:46093\n",
      "distributed.scheduler - INFO -   dashboard at:                     :8787\n",
      "distributed.scheduler - INFO - Receive client connection: Client-a1ec5e28-8bd4-11ea-af24-00d8610cc1df\n",
      "distributed.core - INFO - Starting established connection\n"
     ]
    },
    {
     "name": "stdout",
     "output_type": "stream",
     "text": [
      "[                                        ] | 0% Completed |  3.5s"
     ]
    },
    {
     "name": "stderr",
     "output_type": "stream",
     "text": [
      "distributed.scheduler - INFO - Register worker <Worker 'tcp://10.244.0.115:42391', name: tcp://10.244.0.115:42391, memory: 0, processing: 8>\n",
      "distributed.scheduler - INFO - Starting worker compute stream, tcp://10.244.0.115:42391\n",
      "distributed.core - INFO - Starting established connection\n"
     ]
    },
    {
     "name": "stdout",
     "output_type": "stream",
     "text": [
      "[##########                              ] | 25% Completed | 16.1s"
     ]
    },
    {
     "name": "stderr",
     "output_type": "stream",
     "text": [
      "distributed.scheduler - INFO - Register worker <Worker 'tcp://10.244.0.116:42895', name: tcp://10.244.0.116:42895, memory: 0, processing: 0>\n",
      "distributed.scheduler - INFO - Starting worker compute stream, tcp://10.244.0.116:42895\n",
      "distributed.core - INFO - Starting established connection\n"
     ]
    },
    {
     "name": "stdout",
     "output_type": "stream",
     "text": [
      "[##########                              ] | 25% Completed | 17.5s"
     ]
    },
    {
     "name": "stderr",
     "output_type": "stream",
     "text": [
      "distributed.scheduler - INFO - Register worker <Worker 'tcp://10.244.0.117:35259', name: tcp://10.244.0.117:35259, memory: 0, processing: 0>\n",
      "distributed.scheduler - INFO - Starting worker compute stream, tcp://10.244.0.117:35259\n",
      "distributed.core - INFO - Starting established connection\n"
     ]
    },
    {
     "name": "stdout",
     "output_type": "stream",
     "text": [
      "[##########                              ] | 25% Completed | 18.8s"
     ]
    },
    {
     "name": "stderr",
     "output_type": "stream",
     "text": [
      "distributed.scheduler - INFO - Register worker <Worker 'tcp://10.244.0.118:40021', name: tcp://10.244.0.118:40021, memory: 0, processing: 0>\n",
      "distributed.scheduler - INFO - Starting worker compute stream, tcp://10.244.0.118:40021\n",
      "distributed.core - INFO - Starting established connection\n"
     ]
    },
    {
     "name": "stdout",
     "output_type": "stream",
     "text": [
      "[##########                              ] | 25% Completed | 20.3s"
     ]
    },
    {
     "name": "stderr",
     "output_type": "stream",
     "text": [
      "distributed.scheduler - INFO - Register worker <Worker 'tcp://10.244.0.119:40259', name: tcp://10.244.0.119:40259, memory: 0, processing: 0>\n",
      "distributed.scheduler - INFO - Starting worker compute stream, tcp://10.244.0.119:40259\n",
      "distributed.core - INFO - Starting established connection\n"
     ]
    },
    {
     "name": "stdout",
     "output_type": "stream",
     "text": [
      "[##########                              ] | 25% Completed | 21.6s"
     ]
    },
    {
     "name": "stderr",
     "output_type": "stream",
     "text": [
      "distributed.scheduler - INFO - Register worker <Worker 'tcp://10.244.0.120:44031', name: tcp://10.244.0.120:44031, memory: 0, processing: 0>\n",
      "distributed.scheduler - INFO - Starting worker compute stream, tcp://10.244.0.120:44031\n",
      "distributed.core - INFO - Starting established connection\n"
     ]
    },
    {
     "name": "stdout",
     "output_type": "stream",
     "text": [
      "[##########                              ] | 25% Completed | 24.1s"
     ]
    },
    {
     "name": "stderr",
     "output_type": "stream",
     "text": [
      "distributed.scheduler - INFO - Register worker <Worker 'tcp://10.244.0.121:37587', name: tcp://10.244.0.121:37587, memory: 0, processing: 0>\n",
      "distributed.scheduler - INFO - Starting worker compute stream, tcp://10.244.0.121:37587\n",
      "distributed.core - INFO - Starting established connection\n"
     ]
    },
    {
     "name": "stdout",
     "output_type": "stream",
     "text": [
      "[##########                              ] | 25% Completed | 25.6s"
     ]
    },
    {
     "name": "stderr",
     "output_type": "stream",
     "text": [
      "distributed.scheduler - INFO - Register worker <Worker 'tcp://10.244.0.122:40581', name: tcp://10.244.0.122:40581, memory: 0, processing: 0>\n",
      "distributed.scheduler - INFO - Starting worker compute stream, tcp://10.244.0.122:40581\n",
      "distributed.core - INFO - Starting established connection\n"
     ]
    },
    {
     "name": "stdout",
     "output_type": "stream",
     "text": [
      "[########################################] | 100% Completed |  7min 13.8s\r"
     ]
    },
    {
     "name": "stderr",
     "output_type": "stream",
     "text": [
      "distributed.scheduler - INFO - Remove client Client-a1ec5e28-8bd4-11ea-af24-00d8610cc1df\n",
      "distributed.scheduler - INFO - Remove client Client-a1ec5e28-8bd4-11ea-af24-00d8610cc1df\n",
      "distributed.scheduler - INFO - Close client connection: Client-a1ec5e28-8bd4-11ea-af24-00d8610cc1df\n",
      "distributed.scheduler - INFO - Scheduler closing...\n",
      "distributed.scheduler - INFO - Scheduler closing all comms\n",
      "distributed.scheduler - INFO - Remove worker <Worker 'tcp://10.244.0.115:42391', name: tcp://10.244.0.115:42391, memory: 0, processing: 0>\n",
      "distributed.core - INFO - Removing comms to tcp://10.244.0.115:42391\n"
     ]
    }
   ],
   "source": [
    "from btb_benchmark.kubernetes import run_on_kubernetes\n",
    "\n",
    "results = run_on_kubernetes(config)"
   ]
  }
 ],
 "metadata": {
  "kernelspec": {
   "display_name": "Python 3",
   "language": "python",
   "name": "python3"
  },
  "language_info": {
   "codemirror_mode": {
    "name": "ipython",
    "version": 3
   },
   "file_extension": ".py",
   "mimetype": "text/x-python",
   "name": "python",
   "nbconvert_exporter": "python",
   "pygments_lexer": "ipython3",
   "version": "3.7.4"
  }
 },
 "nbformat": 4,
 "nbformat_minor": 4
}
