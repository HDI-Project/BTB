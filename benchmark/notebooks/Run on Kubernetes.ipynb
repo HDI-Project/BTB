{
 "cells": [
  {
   "cell_type": "markdown",
   "metadata": {},
   "source": [
    "#  Run on Kubernetes\n",
    "\n",
    "Run benchmarking on a kubernetes cluster with the given configuration.\n",
    "\n",
    "Talks to kubernetes to create `n` amount of new `pods` with a dask worker inside of each\n",
    "forming a `dask` cluster. Then, a function specified from `config` is being imported and\n",
    "run with the given arguments. The tasks created by this `function` are being run on the\n",
    "`dask` cluster for distributed computation.\n",
    "\n",
    "The config dict must contain the following sections:\n",
    "* run\n",
    "* dask_cluster\n",
    "\n",
    "Within the `run` section you need to specify:\n",
    "* function:\n",
    "    The complete python path to the function to be run.\n",
    "* args:\n",
    "    A dictionary containing the keyword args that will be used with the given function.\n",
    "\n",
    "Within the `dask_cluster` section you can specify:\n",
    "* workers:\n",
    "    The amount of workers to use.\n",
    "   \n",
    "* worker_config: A dictionary with the following keys:\n",
    "    * resources: A dictionary containig the following keys:\n",
    "        * memory:\n",
    "            The amount of RAM memory.\n",
    "        * cpu:\n",
    "            The amount of cpu's to use.\n",
    "    * image: A docker image to be used (optional).\n",
    "    * setup: A dictionary containing the following keys:\n",
    "        * script: Location to bash script from the docker container to be run.\n",
    "        * git_repository: A dictionary containing the following keys:\n",
    "            * url: Link to the github repository to be cloned.\n",
    "            * reference: A reference to the branch or commit to checkout at.\n",
    "            * install: command run to install this repository.\n",
    "        * pip_packages: A list of pip packages to be installed.\n",
    "        * apt_packages: A list of apt packages to be installed."
   ]
  },
  {
   "cell_type": "code",
   "execution_count": 1,
   "metadata": {},
   "outputs": [],
   "source": [
    "config = {\n",
    "    'run': {\n",
    "        'function': 'btb_benchmark.main.run_benchmark',\n",
    "        'args': {\n",
    "            'iterations': 100,\n",
    "            'challenge_types': 'xgboost',\n",
    "            'detailed_output': True,\n",
    "        }\n",
    "    },\n",
    "    'dask_cluster': {\n",
    "        'workers': 58,\n",
    "        'worker_config': {\n",
    "            'resources': {\n",
    "                'memory': '4G',\n",
    "                'cpu': 4\n",
    "            },\n",
    "            'image': 'pythiac/btb_benchmark:latest',\n",
    "        },\n",
    "    },\n",
    "}"
   ]
  },
  {
   "cell_type": "markdown",
   "metadata": {},
   "source": [
    "After we created our config dictionary, we can now run `run_benchmark` with the specified config"
   ]
  },
  {
   "cell_type": "code",
   "execution_count": null,
   "metadata": {},
   "outputs": [],
   "source": [
    "from btb_benchmark import run_benchmark\n",
    "\n",
    "results = run_benchmark(config)"
   ]
  }
 ],
 "metadata": {
  "kernelspec": {
   "display_name": "Python 3",
   "language": "python",
   "name": "python3"
  },
  "language_info": {
   "codemirror_mode": {
    "name": "ipython",
    "version": 3
   },
   "file_extension": ".py",
   "mimetype": "text/x-python",
   "name": "python",
   "nbconvert_exporter": "python",
   "pygments_lexer": "ipython3",
   "version": "3.6.9"
  }
 },
 "nbformat": 4,
 "nbformat_minor": 4
}
