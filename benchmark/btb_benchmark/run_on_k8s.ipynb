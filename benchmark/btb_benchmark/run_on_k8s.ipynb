{
 "cells": [
  {
   "cell_type": "code",
   "execution_count": 1,
   "metadata": {},
   "outputs": [],
   "source": [
    "config = {\n",
    "    'run': {\n",
    "        'function': 'btb_benchmark.main.run_benchmark',\n",
    "        'args': {\n",
    "            'iterations': 10,\n",
    "            'sample': 4,\n",
    "        }\n",
    "    },\n",
    "    'dask': {\n",
    "        'workers': 4,\n",
    "        'worker_spec': {\n",
    "            'memory_limit': '4G',\n",
    "            'cpu_limit': 2,\n",
    "        }\n",
    "    },\n",
    "    'install': {\n",
    "        'repository': 'https://github.com/HDI-Project/BTB',\n",
    "        'checkout': 'stable' # optional - defaults to master - this could be a commit hash\n",
    "    },\n",
    "}"
   ]
  },
  {
   "cell_type": "code",
   "execution_count": null,
   "metadata": {},
   "outputs": [],
   "source": [
    "from btb_benchmark.kubernetes import run_on_kubernetes\n",
    "\n",
    "# Pass the config to run_on_kubernetes\n",
    "results = run_on_kubernetes(config)\n",
    "\n",
    "# Once it's done, you can store the results as a CSV file\n",
    "results.to_csv(output_path)"
   ]
  }
 ],
 "metadata": {
  "kernelspec": {
   "display_name": "Python 3",
   "language": "python",
   "name": "python3"
  },
  "language_info": {
   "codemirror_mode": {
    "name": "ipython",
    "version": 3
   },
   "file_extension": ".py",
   "mimetype": "text/x-python",
   "name": "python",
   "nbconvert_exporter": "python",
   "pygments_lexer": "ipython3",
   "version": "3.6.9"
  }
 },
 "nbformat": 4,
 "nbformat_minor": 4
}
